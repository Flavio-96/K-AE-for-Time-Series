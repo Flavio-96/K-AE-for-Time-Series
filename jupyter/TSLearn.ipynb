{
 "cells": [
  {
   "cell_type": "markdown",
   "metadata": {},
   "source": [
    "# Dynamic Time Warping with TSLearn\n",
    "## Importing Data"
   ]
  },
  {
   "cell_type": "code",
   "execution_count": 1,
   "metadata": {},
   "outputs": [],
   "source": [
    "from tslearn.datasets import UCR_UEA_datasets\n",
    "import numpy as np"
   ]
  },
  {
   "cell_type": "code",
   "execution_count": 2,
   "metadata": {},
   "outputs": [
    {
     "name": "stdout",
     "output_type": "stream",
     "text": [
      "(23, 82, 1)\n",
      "<class 'numpy.ndarray'>\n"
     ]
    }
   ],
   "source": [
    "X_train, y_train, X_test, y_test = UCR_UEA_datasets().load_dataset(\"TwoLeadECG\")\n",
    "print(X_train.shape)\n",
    "print(type(X_train))"
   ]
  },
  {
   "cell_type": "markdown",
   "metadata": {},
   "source": [
    "## Training"
   ]
  },
  {
   "cell_type": "code",
   "execution_count": 3,
   "metadata": {},
   "outputs": [],
   "source": [
    "from tslearn.metrics import cdist_dtw\n",
    "from tslearn.clustering import TimeSeriesKMeans"
   ]
  },
  {
   "cell_type": "code",
   "execution_count": 4,
   "metadata": {},
   "outputs": [
    {
     "name": "stdout",
     "output_type": "stream",
     "text": [
      "1.824 --> 1.010 --> 0.911 --> 0.885 --> 0.885 --> \n"
     ]
    }
   ],
   "source": [
    "n_clusters = len(set(y_train))\n",
    "model = TimeSeriesKMeans(metric=\"dtw\", n_clusters=n_clusters)\n",
    "y_predict = model.fit_predict(X_train)"
   ]
  },
  {
   "cell_type": "markdown",
   "metadata": {},
   "source": [
    "## Evaluation"
   ]
  },
  {
   "cell_type": "code",
   "execution_count": 5,
   "metadata": {},
   "outputs": [],
   "source": [
    "from tslearn.clustering import silhouette_score"
   ]
  },
  {
   "cell_type": "code",
   "execution_count": 6,
   "metadata": {
    "scrolled": false
   },
   "outputs": [
    {
     "name": "stdout",
     "output_type": "stream",
     "text": [
      "Silhouette Score 0.25730158066863873\n",
      "Silhouette Precomputed 0.25730158066863873\n",
      "Metrics Match? True\n"
     ]
    }
   ],
   "source": [
    "ss = silhouette_score(X_train,y_predict,metric=\"dtw\")\n",
    "print(\"Silhouette Score\",ss)\n",
    "dtw_matrix = cdist_dtw(X_train)\n",
    "ss_pre = silhouette_score(dtw_matrix,y_predict,metric=\"precomputed\")\n",
    "print(\"Silhouette Precomputed\",ss_pre)\n",
    "print(\"Metrics Match?\",ss == ss_pre)"
   ]
  },
  {
   "cell_type": "code",
   "execution_count": 7,
   "metadata": {},
   "outputs": [],
   "source": [
    "from sklearn.metrics.cluster import davies_bouldin_score, contingency_matrix,adjusted_rand_score,fowlkes_mallows_score,v_measure_score,adjusted_mutual_info_score"
   ]
  },
  {
   "cell_type": "code",
   "execution_count": 8,
   "metadata": {},
   "outputs": [
    {
     "name": "stdout",
     "output_type": "stream",
     "text": [
      "[[ 0 12]\n",
      " [ 6  5]]\n"
     ]
    }
   ],
   "source": [
    "cm = contingency_matrix(y_train, y_predict)\n",
    "print(cm)"
   ]
  },
  {
   "cell_type": "code",
   "execution_count": 9,
   "metadata": {},
   "outputs": [],
   "source": [
    "def purity(y_true, y_pred):\n",
    "    cm = contingency_matrix(y_true, y_pred)\n",
    "    return np.sum(np.amax(cm, axis=0)) / np.sum(cm)"
   ]
  },
  {
   "cell_type": "code",
   "execution_count": 10,
   "metadata": {},
   "outputs": [
    {
     "name": "stdout",
     "output_type": "stream",
     "text": [
      "Purity 0.782608695652174\n"
     ]
    }
   ],
   "source": [
    "pur = purity(y_train, y_predict)\n",
    "print(\"Purity\", pur)"
   ]
  },
  {
   "cell_type": "code",
   "execution_count": 11,
   "metadata": {},
   "outputs": [
    {
     "name": "stdout",
     "output_type": "stream",
     "text": [
      "Adjusted rand index 0.29447852760736193\n"
     ]
    }
   ],
   "source": [
    "ars = adjusted_rand_score(y_train,y_predict)\n",
    "print(\"Adjusted rand index\", ars)"
   ]
  },
  {
   "cell_type": "code",
   "execution_count": 12,
   "metadata": {},
   "outputs": [
    {
     "name": "stdout",
     "output_type": "stream",
     "text": [
      "Fowlkes-Mallows score:  0.6732249977106864\n"
     ]
    }
   ],
   "source": [
    "# FMS: Media geometrica di precision e recall pairwise\n",
    "fms = fowlkes_mallows_score(y_train,y_predict)\n",
    "print(\"Fowlkes-Mallows score: \", fms)"
   ]
  },
  {
   "cell_type": "code",
   "execution_count": 13,
   "metadata": {},
   "outputs": [
    {
     "name": "stdout",
     "output_type": "stream",
     "text": [
      "Davies-Bouldin 3.370701299716391\n"
     ]
    }
   ],
   "source": [
    "X_train_resh = np.reshape(X_train,(X_train.shape[0],X_train.shape[1]))\n",
    "db = davies_bouldin_score(X_train_resh,y_predict)\n",
    "print(\"Davies-Bouldin\",db)"
   ]
  },
  {
   "cell_type": "code",
   "execution_count": 14,
   "metadata": {},
   "outputs": [
    {
     "name": "stdout",
     "output_type": "stream",
     "text": [
      "V-Measure:  0.38610781894301427\n"
     ]
    }
   ],
   "source": [
    "vm = v_measure_score(y_train, y_predict)\n",
    "print(\"V-Measure: \", vm)"
   ]
  },
  {
   "cell_type": "markdown",
   "metadata": {},
   "source": [
    "## Automation"
   ]
  },
  {
   "cell_type": "code",
   "execution_count": 15,
   "metadata": {},
   "outputs": [],
   "source": [
    "import pandas as pd\n",
    "datasets_names = [\"ECG5000\", \"ECG200\",\"ChlorineConcentration\",\"FordA\",\"FordB\",\"PhalangesOutlinesCorrect\",\"RefrigerationDevices\",\"TwoLeadECG\",\"TwoPatterns\"]\n",
    "results_df = pd.DataFrame(columns=['DatasetName','NofTrainSamples','NofClasses','Shilhouette','VMesure','AdjRandIndex','Purity','DBScore','FMS','AMIS'])"
   ]
  },
  {
   "cell_type": "code",
   "execution_count": 3,
   "metadata": {},
   "outputs": [
    {
     "data": {
      "application/vnd.jupyter.widget-view+json": {
       "model_id": "49703a98e51d420c855d6431960ee257",
       "version_major": 2,
       "version_minor": 0
      },
      "text/plain": [
       "Button(button_style='success', description='start', style=ButtonStyle())"
      ]
     },
     "metadata": {},
     "output_type": "display_data"
    },
    {
     "data": {
      "application/vnd.jupyter.widget-view+json": {
       "model_id": "",
       "version_major": 2,
       "version_minor": 0
      },
      "text/plain": [
       "Button(button_style='primary', description='watch', style=ButtonStyle())"
      ]
     },
     "metadata": {},
     "output_type": "display_data"
    },
    {
     "data": {
      "application/vnd.jupyter.widget-view+json": {
       "model_id": "f40a707ddd664cb9ae43e386092e2308",
       "version_major": 2,
       "version_minor": 0
      },
      "text/plain": [
       "Button(description='clear log', style=ButtonStyle())"
      ]
     },
     "metadata": {},
     "output_type": "display_data"
    },
    {
     "data": {
      "application/vnd.jupyter.widget-view+json": {
       "model_id": "bfe25da8be4240b7bdc77121c164a609",
       "version_major": 2,
       "version_minor": 0
      },
      "text/plain": [
       "Output()"
      ]
     },
     "metadata": {},
     "output_type": "display_data"
    }
   ],
   "source": [
    "from multiprocessing import Pool\n",
    "def worker(x):\n",
    "    return x*x\n",
    "if __name__ ==  '__main__': #this is the only additional line\n",
    "     num_processors = 3\n",
    "     p=Pool(processes = num_processors)\n",
    "     output = p.map(worker,[i for i in range(0,3)])\n",
    "     print(output)"
   ]
  },
  {
   "cell_type": "code",
   "execution_count": null,
   "metadata": {},
   "outputs": [],
   "source": [
    "def process_dataset(dataset_name):\n",
    "    X_train, y_train, X_test, y_test = UCR_UEA_datasets(use_cache=True).load_dataset(dataset_name)\n",
    "    print(\"Working on\",ds)\n",
    "    \n",
    "    if(not X_train.any()):\n",
    "        print(\"Error in loading Dataset\")\n",
    "        return    \n",
    "    \n",
    "    n_clusters = len(set(y_train))\n",
    "    model = TimeSeriesKMeans(metric=\"dtw\", n_clusters=n_clusters,verbose=False)\n",
    "    y_predict = model.fit_predict(X_train)\n",
    "    \n",
    "    ss = 0#silhouette_score(X_train,y_predict,metric=\"dtw\")    \n",
    "    vm = v_measure_score(y_train, y_predict)\n",
    "    ars = adjusted_rand_score(y_train,y_predict)\n",
    "    pur = purity(y_train, y_predict)\n",
    "    \n",
    "    X_train_resh = np.reshape(X_train,(X_train.shape[0],X_train.shape[1]))\n",
    "    db = davies_bouldin_score(X_train_resh,y_predict)\n",
    "    \n",
    "    fms = fowlkes_mallows_score(y_train,y_predict)\n",
    "    amis = adjusted_mutual_info_score(y_train, y_predict, average_method='arithmetic')\n",
    "    \n",
    "    return (ds,X_train.shape[0],n_clusters,ss,vm,ars,pur,db,fms,amis)\n",
    "    \n",
    "    print(\"Fit Completed\")\n",
    "\n",
    "\n",
    "results = Parallel(n_jobs=num_cores)(delayed(process_dataset)(ds) for ds in datasets_names)\n",
    "print(results)\n",
    "    \n",
    "    "
   ]
  },
  {
   "cell_type": "code",
   "execution_count": null,
   "metadata": {},
   "outputs": [],
   "source": []
  }
 ],
 "metadata": {
  "kernelspec": {
   "display_name": "Python 3",
   "language": "python",
   "name": "python3"
  },
  "language_info": {
   "codemirror_mode": {
    "name": "ipython",
    "version": 3
   },
   "file_extension": ".py",
   "mimetype": "text/x-python",
   "name": "python",
   "nbconvert_exporter": "python",
   "pygments_lexer": "ipython3",
   "version": "3.7.3"
  }
 },
 "nbformat": 4,
 "nbformat_minor": 2
}
