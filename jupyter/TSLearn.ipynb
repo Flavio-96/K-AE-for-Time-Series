{
 "cells": [
  {
   "cell_type": "markdown",
   "metadata": {},
   "source": [
    "# Dynamic Time Warping with TSLearn"
   ]
  },
  {
   "cell_type": "markdown",
   "metadata": {},
   "source": [
    "## TSLearn imports"
   ]
  },
  {
   "cell_type": "code",
   "execution_count": 11,
   "metadata": {},
   "outputs": [],
   "source": [
    "from tslearn.metrics import cdist_dtw\n",
    "from tslearn.clustering import TimeSeriesKMeans, silhouette_score\n",
    "from tslearn.datasets import UCR_UEA_datasets"
   ]
  },
  {
   "cell_type": "markdown",
   "metadata": {},
   "source": [
    "## Metric imports"
   ]
  },
  {
   "cell_type": "code",
   "execution_count": 12,
   "metadata": {},
   "outputs": [],
   "source": [
    "from sklearn.metrics.cluster import davies_bouldin_score, contingency_matrix,adjusted_rand_score,fowlkes_mallows_score,v_measure_score,adjusted_mutual_info_score"
   ]
  },
  {
   "cell_type": "markdown",
   "metadata": {},
   "source": [
    "### Purity definition"
   ]
  },
  {
   "cell_type": "code",
   "execution_count": 13,
   "metadata": {},
   "outputs": [],
   "source": [
    "def purity(y_true, y_pred):\n",
    "    cm = contingency_matrix(y_true, y_pred)\n",
    "    return np.sum(np.amax(cm, axis=0)) / np.sum(cm)"
   ]
  },
  {
   "cell_type": "markdown",
   "metadata": {},
   "source": [
    "## Datasets declaration"
   ]
  },
  {
   "cell_type": "code",
   "execution_count": 14,
   "metadata": {},
   "outputs": [],
   "source": [
    "datasets_names = [\"ECG5000\", \"ECG200\",\"ChlorineConcentration\",\"FordA\",\"FordB\",\"PhalangesOutlinesCorrect\",\"RefrigerationDevices\",\"TwoLeadECG\",\"TwoPatterns\"]\n",
    "chosen_dataset = datasets_names[8]"
   ]
  },
  {
   "cell_type": "code",
   "execution_count": 15,
   "metadata": {
    "scrolled": true
   },
   "outputs": [
    {
     "name": "stdout",
     "output_type": "stream",
     "text": [
      "Working on TwoPatterns\n",
      "18.884 --> 11.435 --> 10.400 --> 9.876 --> 9.719 --> 9.436 --> 8.551 --> 7.583 --> 7.569 --> 7.489 --> 7.479 --> 7.475 --> 7.475 --> 7.475 --> \n"
     ]
    }
   ],
   "source": [
    "import sys\n",
    "import pandas as pd\n",
    "import numpy as np\n",
    "\n",
    "def process_dataset(dataset_name):\n",
    "    X_train, y_train, X_test, y_test = UCR_UEA_datasets(use_cache=True).load_dataset(dataset_name)\n",
    "    print(\"Working on\",dataset_name)\n",
    "    if(not X_train.any()):\n",
    "        print(\"Error in loading Dataset\")\n",
    "        return    \n",
    "    \n",
    "    n_clusters = len(set(y_train))\n",
    "    model = TimeSeriesKMeans(metric=\"dtw\", n_clusters=n_clusters,verbose=True)\n",
    "    y_predict = model.fit_predict(X_train)\n",
    "    \n",
    "    return y_predict\n",
    "    \n",
    "\n",
    "\n",
    "results = process_dataset(chosen_dataset)"
   ]
  },
  {
   "cell_type": "code",
   "execution_count": 37,
   "metadata": {
    "scrolled": true
   },
   "outputs": [
    {
     "data": {
      "text/plain": [
       "array([[[ 2.3037930e-01],\n",
       "        [ 4.9096649e-01],\n",
       "        [ 3.5883306e-01],\n",
       "        [-2.3096511e-01],\n",
       "        [ 9.0224785e-02],\n",
       "        [-5.0147326e-01],\n",
       "        [-3.3932938e-01],\n",
       "        [ 6.6836482e-02],\n",
       "        [ 2.3294938e-01],\n",
       "        [ 2.8325503e-02],\n",
       "        [ 2.3170201e-01],\n",
       "        [ 1.6587095e-02],\n",
       "        [ 1.4365201e-01],\n",
       "        [ 2.8534305e-01],\n",
       "        [ 7.1382826e-02],\n",
       "        [-1.6801291e+00],\n",
       "        [-1.6801291e+00],\n",
       "        [-1.6801291e+00],\n",
       "        [-1.6801291e+00],\n",
       "        [-1.6801291e+00],\n",
       "        [-1.6801291e+00],\n",
       "        [-1.6801291e+00],\n",
       "        [-1.6801291e+00],\n",
       "        [-1.6801291e+00],\n",
       "        [-1.6801291e+00],\n",
       "        [-1.6801291e+00],\n",
       "        [-1.6801291e+00],\n",
       "        [-1.6801291e+00],\n",
       "        [ 1.6600859e+00],\n",
       "        [ 1.6600859e+00],\n",
       "        [ 1.6600859e+00],\n",
       "        [ 1.6600859e+00],\n",
       "        [ 1.6600859e+00],\n",
       "        [ 1.6600859e+00],\n",
       "        [ 1.6600859e+00],\n",
       "        [ 1.6600859e+00],\n",
       "        [ 1.6600859e+00],\n",
       "        [ 1.6600859e+00],\n",
       "        [ 1.6600859e+00],\n",
       "        [ 1.6600859e+00],\n",
       "        [-1.6328428e-01],\n",
       "        [ 9.6866586e-02],\n",
       "        [-6.0353210e-01],\n",
       "        [ 2.5774259e-01],\n",
       "        [-1.4132001e-01],\n",
       "        [-2.9348153e-01],\n",
       "        [-4.3528911e-01],\n",
       "        [ 4.0910400e-01],\n",
       "        [ 8.7897646e-01],\n",
       "        [ 4.8805880e-01],\n",
       "        [ 5.1818545e-02],\n",
       "        [ 3.8952406e-01],\n",
       "        [ 3.0773990e-01],\n",
       "        [ 5.0258019e-01],\n",
       "        [ 5.4010775e-02],\n",
       "        [-2.3488537e-01],\n",
       "        [ 1.6741434e-01],\n",
       "        [ 5.2881961e-01],\n",
       "        [-2.6021885e-01],\n",
       "        [ 2.3290647e-01],\n",
       "        [ 5.1614710e-01],\n",
       "        [ 8.6856900e-02],\n",
       "        [-1.4512941e-01],\n",
       "        [-9.1453742e-01],\n",
       "        [-1.4174021e-01],\n",
       "        [ 3.8031769e-01],\n",
       "        [-3.8236270e-01],\n",
       "        [-3.2940819e-03],\n",
       "        [ 4.4991127e-01],\n",
       "        [ 1.2914505e-01],\n",
       "        [-3.1329689e-01],\n",
       "        [-7.2994267e-01],\n",
       "        [ 1.1114098e-01],\n",
       "        [ 3.2361185e-01],\n",
       "        [-2.4927233e-01],\n",
       "        [ 4.7836216e-01],\n",
       "        [-2.6719819e-01],\n",
       "        [-1.0917514e-01],\n",
       "        [ 5.7007922e-01],\n",
       "        [-2.7120226e-01],\n",
       "        [ 4.6438787e-01],\n",
       "        [-3.1359620e-01],\n",
       "        [-5.2393865e-01],\n",
       "        [-1.5864045e-01],\n",
       "        [ 3.1504136e-02],\n",
       "        [-9.0675938e-02],\n",
       "        [-3.5230537e-01],\n",
       "        [ 1.6836839e-01],\n",
       "        [ 2.4810979e-02],\n",
       "        [-2.6356825e-01],\n",
       "        [-1.9796841e-01],\n",
       "        [ 2.2407676e-01],\n",
       "        [ 2.5016401e-01],\n",
       "        [-3.5094400e-01],\n",
       "        [-1.4000862e-01],\n",
       "        [-4.4532325e-01],\n",
       "        [ 4.3899348e-01],\n",
       "        [-7.4482917e-01],\n",
       "        [-7.3500228e-02],\n",
       "        [-2.5037801e-01],\n",
       "        [ 3.0118808e-01],\n",
       "        [-6.7173564e-03],\n",
       "        [-2.3323636e-02],\n",
       "        [ 1.6600859e+00],\n",
       "        [ 1.6600859e+00],\n",
       "        [ 1.6600859e+00],\n",
       "        [ 1.6600859e+00],\n",
       "        [ 1.6600859e+00],\n",
       "        [ 1.6600859e+00],\n",
       "        [ 1.6600859e+00],\n",
       "        [ 1.6600859e+00],\n",
       "        [ 1.6600859e+00],\n",
       "        [-1.6801291e+00],\n",
       "        [-1.6801291e+00],\n",
       "        [-1.6801291e+00],\n",
       "        [-1.6801291e+00],\n",
       "        [-1.6801291e+00],\n",
       "        [-1.6801291e+00],\n",
       "        [-1.6801291e+00],\n",
       "        [-1.6801291e+00],\n",
       "        [ 1.0503578e-01],\n",
       "        [-2.6483763e-01],\n",
       "        [ 3.0659404e-01],\n",
       "        [-7.5227965e-02],\n",
       "        [-2.2219207e-01],\n",
       "        [ 2.1074476e-01],\n",
       "        [-2.5542933e-01],\n",
       "        [-2.7894241e-01]],\n",
       "\n",
       "       [[ 7.6521775e-04],\n",
       "        [-3.4267997e-01],\n",
       "        [ 1.8872921e-01],\n",
       "        [-4.7936185e-01],\n",
       "        [-2.8193196e-01],\n",
       "        [ 3.5192722e-01],\n",
       "        [-3.6033049e-01],\n",
       "        [ 1.2182127e-01],\n",
       "        [-2.8549919e-01],\n",
       "        [ 8.5623184e-02],\n",
       "        [-2.2798461e-01],\n",
       "        [-1.8773354e-01],\n",
       "        [ 7.0145798e-01],\n",
       "        [ 5.5897458e-01],\n",
       "        [-1.2367082e-01],\n",
       "        [-9.7015577e-03],\n",
       "        [-7.4926509e-01],\n",
       "        [ 7.3455879e-02],\n",
       "        [-6.1190505e-02],\n",
       "        [-3.8061926e-01],\n",
       "        [-2.3890087e-02],\n",
       "        [ 1.3921960e-01],\n",
       "        [ 2.4901077e-01],\n",
       "        [-1.0258609e-01],\n",
       "        [-1.9548093e-01],\n",
       "        [ 1.7118817e-01],\n",
       "        [-2.7330526e-02],\n",
       "        [-1.1468586e-01],\n",
       "        [ 4.8380372e-01],\n",
       "        [-4.0901865e-01],\n",
       "        [-1.5751851e-01],\n",
       "        [-6.0661882e-01],\n",
       "        [ 2.7474871e-01],\n",
       "        [-5.8003733e-01],\n",
       "        [ 7.0649978e-03],\n",
       "        [ 1.0996501e-01],\n",
       "        [-4.5400935e-02],\n",
       "        [-1.7785261e-01],\n",
       "        [-1.3032646e-01],\n",
       "        [-1.9090814e-01],\n",
       "        [ 6.5101792e-02],\n",
       "        [ 6.3648105e-01],\n",
       "        [-1.1925643e-01],\n",
       "        [ 3.0314983e-01],\n",
       "        [ 5.0861683e-01],\n",
       "        [ 1.4977519e-01],\n",
       "        [ 1.2519399e-01],\n",
       "        [ 7.3145903e-01],\n",
       "        [ 1.8387723e-01],\n",
       "        [ 3.4318218e-01],\n",
       "        [ 1.2592288e-01],\n",
       "        [ 2.3421249e-01],\n",
       "        [-5.0940276e-02],\n",
       "        [-8.9538921e-02],\n",
       "        [ 5.1681993e-01],\n",
       "        [-3.5485038e-03],\n",
       "        [ 5.5431182e-02],\n",
       "        [-1.6602703e-01],\n",
       "        [-1.3324659e-01],\n",
       "        [-2.9473924e-01],\n",
       "        [ 8.6777205e-02],\n",
       "        [-2.8910513e-01],\n",
       "        [-1.1784892e-01],\n",
       "        [-3.9267396e-01],\n",
       "        [-1.2362386e-01],\n",
       "        [ 1.6996561e+00],\n",
       "        [ 1.6996561e+00],\n",
       "        [ 1.6996561e+00],\n",
       "        [ 1.6996561e+00],\n",
       "        [ 1.6996561e+00],\n",
       "        [ 1.6996561e+00],\n",
       "        [ 1.6996561e+00],\n",
       "        [ 1.6996561e+00],\n",
       "        [ 1.6996561e+00],\n",
       "        [ 1.6996561e+00],\n",
       "        [ 1.6996561e+00],\n",
       "        [ 1.6996561e+00],\n",
       "        [ 1.6996561e+00],\n",
       "        [-1.6998851e+00],\n",
       "        [-1.6998851e+00],\n",
       "        [-1.6998851e+00],\n",
       "        [-1.6998851e+00],\n",
       "        [-1.6998851e+00],\n",
       "        [-1.6998851e+00],\n",
       "        [-1.6998851e+00],\n",
       "        [-1.6998851e+00],\n",
       "        [-1.6998851e+00],\n",
       "        [-1.6998851e+00],\n",
       "        [-1.6998851e+00],\n",
       "        [-1.6998851e+00],\n",
       "        [-9.5597087e-02],\n",
       "        [-8.0362142e-02],\n",
       "        [-4.3231394e-01],\n",
       "        [-2.0249181e-02],\n",
       "        [-1.7342535e-01],\n",
       "        [-1.1620536e-01],\n",
       "        [-2.9406570e-02],\n",
       "        [ 4.1640493e-01],\n",
       "        [ 3.5533346e-01],\n",
       "        [-1.6998851e+00],\n",
       "        [-1.6998851e+00],\n",
       "        [-1.6998851e+00],\n",
       "        [-1.6998851e+00],\n",
       "        [-1.6998851e+00],\n",
       "        [-1.6998851e+00],\n",
       "        [-1.6998851e+00],\n",
       "        [-1.6998851e+00],\n",
       "        [ 1.6996561e+00],\n",
       "        [ 1.6996561e+00],\n",
       "        [ 1.6996561e+00],\n",
       "        [ 1.6996561e+00],\n",
       "        [ 1.6996561e+00],\n",
       "        [ 1.6996561e+00],\n",
       "        [ 1.6996561e+00],\n",
       "        [ 1.6996561e+00],\n",
       "        [-1.2936582e-01],\n",
       "        [-4.1723711e-01],\n",
       "        [ 2.3781853e-01],\n",
       "        [ 1.4847349e-01],\n",
       "        [-2.2147317e-01],\n",
       "        [-9.0350347e-02],\n",
       "        [ 6.0616422e-01],\n",
       "        [-5.8921602e-01],\n",
       "        [-1.8747844e-01],\n",
       "        [-1.8987464e-01],\n",
       "        [-6.4269981e-01],\n",
       "        [-1.2149454e-01],\n",
       "        [ 5.2589527e-01]]])"
      ]
     },
     "execution_count": 37,
     "metadata": {},
     "output_type": "execute_result"
    }
   ],
   "source": [
    "X_train, y_train, X_test, y_test = UCR_UEA_datasets(use_cache=True).load_dataset(chosen_dataset)"
   ]
  },
  {
   "cell_type": "code",
   "execution_count": 40,
   "metadata": {},
   "outputs": [
    {
     "data": {
      "text/plain": [
       "['TwoPatterns',\n",
       " 1000,\n",
       " 4,\n",
       " 0,\n",
       " 0.9258843370755682,\n",
       " 0.9321105127138701,\n",
       " 0.974,\n",
       " 12.020350188337824,\n",
       " 0.9490738029420857,\n",
       " 0.9256417293526799]"
      ]
     },
     "execution_count": 40,
     "metadata": {},
     "output_type": "execute_result"
    }
   ],
   "source": [
    "results"
   ]
  },
  {
   "cell_type": "code",
   "execution_count": 39,
   "metadata": {
    "scrolled": false
   },
   "outputs": [
    {
     "ename": "ValueError",
     "evalue": "Found input variables with inconsistent numbers of samples: [128, 10]",
     "output_type": "error",
     "traceback": [
      "\u001b[0;31m---------------------------------------------------------------------------\u001b[0m",
      "\u001b[0;31mValueError\u001b[0m                                Traceback (most recent call last)",
      "\u001b[0;32m<ipython-input-39-2a7dd73b9ad0>\u001b[0m in \u001b[0;36m<module>\u001b[0;34m\u001b[0m\n\u001b[0;32m----> 1\u001b[0;31m \u001b[0mss\u001b[0m \u001b[0;34m=\u001b[0m \u001b[0msilhouette_score\u001b[0m\u001b[0;34m(\u001b[0m\u001b[0mX_train\u001b[0m\u001b[0;34m[\u001b[0m\u001b[0;36m1\u001b[0m\u001b[0;34m]\u001b[0m\u001b[0;34m,\u001b[0m\u001b[0mresults\u001b[0m\u001b[0;34m,\u001b[0m\u001b[0mmetric\u001b[0m\u001b[0;34m=\u001b[0m\u001b[0;34m\"dtw\"\u001b[0m\u001b[0;34m)\u001b[0m\u001b[0;34m\u001b[0m\u001b[0;34m\u001b[0m\u001b[0m\n\u001b[0m",
      "\u001b[0;32m~/Universita/Progetto-Data-science/env/lib/python3.7/site-packages/tslearn/clustering.py\u001b[0m in \u001b[0;36msilhouette_score\u001b[0;34m(X, labels, metric, sample_size, metric_params, random_state, **kwds)\u001b[0m\n\u001b[1;32m    191\u001b[0m                                     \u001b[0msample_size\u001b[0m\u001b[0;34m=\u001b[0m\u001b[0msample_size\u001b[0m\u001b[0;34m,\u001b[0m\u001b[0;34m\u001b[0m\u001b[0;34m\u001b[0m\u001b[0m\n\u001b[1;32m    192\u001b[0m                                     \u001b[0mrandom_state\u001b[0m\u001b[0;34m=\u001b[0m\u001b[0mrandom_state\u001b[0m\u001b[0;34m,\u001b[0m\u001b[0;34m\u001b[0m\u001b[0;34m\u001b[0m\u001b[0m\n\u001b[0;32m--> 193\u001b[0;31m                                     **kwds)\n\u001b[0m\u001b[1;32m    194\u001b[0m \u001b[0;34m\u001b[0m\u001b[0m\n\u001b[1;32m    195\u001b[0m \u001b[0;34m\u001b[0m\u001b[0m\n",
      "\u001b[0;32m~/Universita/Progetto-Data-science/env/lib/python3.7/site-packages/sklearn/metrics/cluster/unsupervised.py\u001b[0m in \u001b[0;36msilhouette_score\u001b[0;34m(X, labels, metric, sample_size, random_state, **kwds)\u001b[0m\n\u001b[1;32m    115\u001b[0m         \u001b[0;32melse\u001b[0m\u001b[0;34m:\u001b[0m\u001b[0;34m\u001b[0m\u001b[0;34m\u001b[0m\u001b[0m\n\u001b[1;32m    116\u001b[0m             \u001b[0mX\u001b[0m\u001b[0;34m,\u001b[0m \u001b[0mlabels\u001b[0m \u001b[0;34m=\u001b[0m \u001b[0mX\u001b[0m\u001b[0;34m[\u001b[0m\u001b[0mindices\u001b[0m\u001b[0;34m]\u001b[0m\u001b[0;34m,\u001b[0m \u001b[0mlabels\u001b[0m\u001b[0;34m[\u001b[0m\u001b[0mindices\u001b[0m\u001b[0;34m]\u001b[0m\u001b[0;34m\u001b[0m\u001b[0;34m\u001b[0m\u001b[0m\n\u001b[0;32m--> 117\u001b[0;31m     \u001b[0;32mreturn\u001b[0m \u001b[0mnp\u001b[0m\u001b[0;34m.\u001b[0m\u001b[0mmean\u001b[0m\u001b[0;34m(\u001b[0m\u001b[0msilhouette_samples\u001b[0m\u001b[0;34m(\u001b[0m\u001b[0mX\u001b[0m\u001b[0;34m,\u001b[0m \u001b[0mlabels\u001b[0m\u001b[0;34m,\u001b[0m \u001b[0mmetric\u001b[0m\u001b[0;34m=\u001b[0m\u001b[0mmetric\u001b[0m\u001b[0;34m,\u001b[0m \u001b[0;34m**\u001b[0m\u001b[0mkwds\u001b[0m\u001b[0;34m)\u001b[0m\u001b[0;34m)\u001b[0m\u001b[0;34m\u001b[0m\u001b[0;34m\u001b[0m\u001b[0m\n\u001b[0m\u001b[1;32m    118\u001b[0m \u001b[0;34m\u001b[0m\u001b[0m\n\u001b[1;32m    119\u001b[0m \u001b[0;34m\u001b[0m\u001b[0m\n",
      "\u001b[0;32m~/Universita/Progetto-Data-science/env/lib/python3.7/site-packages/sklearn/metrics/cluster/unsupervised.py\u001b[0m in \u001b[0;36msilhouette_samples\u001b[0;34m(X, labels, metric, **kwds)\u001b[0m\n\u001b[1;32m    210\u001b[0m \u001b[0;34m\u001b[0m\u001b[0m\n\u001b[1;32m    211\u001b[0m     \"\"\"\n\u001b[0;32m--> 212\u001b[0;31m     \u001b[0mX\u001b[0m\u001b[0;34m,\u001b[0m \u001b[0mlabels\u001b[0m \u001b[0;34m=\u001b[0m \u001b[0mcheck_X_y\u001b[0m\u001b[0;34m(\u001b[0m\u001b[0mX\u001b[0m\u001b[0;34m,\u001b[0m \u001b[0mlabels\u001b[0m\u001b[0;34m,\u001b[0m \u001b[0maccept_sparse\u001b[0m\u001b[0;34m=\u001b[0m\u001b[0;34m[\u001b[0m\u001b[0;34m'csc'\u001b[0m\u001b[0;34m,\u001b[0m \u001b[0;34m'csr'\u001b[0m\u001b[0;34m]\u001b[0m\u001b[0;34m)\u001b[0m\u001b[0;34m\u001b[0m\u001b[0;34m\u001b[0m\u001b[0m\n\u001b[0m\u001b[1;32m    213\u001b[0m     \u001b[0mle\u001b[0m \u001b[0;34m=\u001b[0m \u001b[0mLabelEncoder\u001b[0m\u001b[0;34m(\u001b[0m\u001b[0;34m)\u001b[0m\u001b[0;34m\u001b[0m\u001b[0;34m\u001b[0m\u001b[0m\n\u001b[1;32m    214\u001b[0m     \u001b[0mlabels\u001b[0m \u001b[0;34m=\u001b[0m \u001b[0mle\u001b[0m\u001b[0;34m.\u001b[0m\u001b[0mfit_transform\u001b[0m\u001b[0;34m(\u001b[0m\u001b[0mlabels\u001b[0m\u001b[0;34m)\u001b[0m\u001b[0;34m\u001b[0m\u001b[0;34m\u001b[0m\u001b[0m\n",
      "\u001b[0;32m~/Universita/Progetto-Data-science/env/lib/python3.7/site-packages/sklearn/utils/validation.py\u001b[0m in \u001b[0;36mcheck_X_y\u001b[0;34m(X, y, accept_sparse, accept_large_sparse, dtype, order, copy, force_all_finite, ensure_2d, allow_nd, multi_output, ensure_min_samples, ensure_min_features, y_numeric, warn_on_dtype, estimator)\u001b[0m\n\u001b[1;32m    727\u001b[0m         \u001b[0my\u001b[0m \u001b[0;34m=\u001b[0m \u001b[0my\u001b[0m\u001b[0;34m.\u001b[0m\u001b[0mastype\u001b[0m\u001b[0;34m(\u001b[0m\u001b[0mnp\u001b[0m\u001b[0;34m.\u001b[0m\u001b[0mfloat64\u001b[0m\u001b[0;34m)\u001b[0m\u001b[0;34m\u001b[0m\u001b[0;34m\u001b[0m\u001b[0m\n\u001b[1;32m    728\u001b[0m \u001b[0;34m\u001b[0m\u001b[0m\n\u001b[0;32m--> 729\u001b[0;31m     \u001b[0mcheck_consistent_length\u001b[0m\u001b[0;34m(\u001b[0m\u001b[0mX\u001b[0m\u001b[0;34m,\u001b[0m \u001b[0my\u001b[0m\u001b[0;34m)\u001b[0m\u001b[0;34m\u001b[0m\u001b[0;34m\u001b[0m\u001b[0m\n\u001b[0m\u001b[1;32m    730\u001b[0m \u001b[0;34m\u001b[0m\u001b[0m\n\u001b[1;32m    731\u001b[0m     \u001b[0;32mreturn\u001b[0m \u001b[0mX\u001b[0m\u001b[0;34m,\u001b[0m \u001b[0my\u001b[0m\u001b[0;34m\u001b[0m\u001b[0;34m\u001b[0m\u001b[0m\n",
      "\u001b[0;32m~/Universita/Progetto-Data-science/env/lib/python3.7/site-packages/sklearn/utils/validation.py\u001b[0m in \u001b[0;36mcheck_consistent_length\u001b[0;34m(*arrays)\u001b[0m\n\u001b[1;32m    203\u001b[0m     \u001b[0;32mif\u001b[0m \u001b[0mlen\u001b[0m\u001b[0;34m(\u001b[0m\u001b[0muniques\u001b[0m\u001b[0;34m)\u001b[0m \u001b[0;34m>\u001b[0m \u001b[0;36m1\u001b[0m\u001b[0;34m:\u001b[0m\u001b[0;34m\u001b[0m\u001b[0;34m\u001b[0m\u001b[0m\n\u001b[1;32m    204\u001b[0m         raise ValueError(\"Found input variables with inconsistent numbers of\"\n\u001b[0;32m--> 205\u001b[0;31m                          \" samples: %r\" % [int(l) for l in lengths])\n\u001b[0m\u001b[1;32m    206\u001b[0m \u001b[0;34m\u001b[0m\u001b[0m\n\u001b[1;32m    207\u001b[0m \u001b[0;34m\u001b[0m\u001b[0m\n",
      "\u001b[0;31mValueError\u001b[0m: Found input variables with inconsistent numbers of samples: [128, 10]"
     ]
    }
   ],
   "source": [
    "ss = silhouette_score(X_train[1],results,metric=\"dtw\")    "
   ]
  },
  {
   "cell_type": "code",
   "execution_count": 24,
   "metadata": {},
   "outputs": [],
   "source": [
    "vm = v_measure_score(y_train, results)\n",
    "ars = adjusted_rand_score(y_train,results)\n",
    "pur = purity(y_train, results)\n",
    "\n",
    "X_train_resh = np.reshape(X_train,(X_train.shape[0],X_train.shape[1]))\n",
    "db = davies_bouldin_score(X_train_resh,results)\n",
    "\n",
    "fms = fowlkes_mallows_score(y_train,results)\n",
    "amis = adjusted_mutual_info_score(y_train, results, average_method='arithmetic')"
   ]
  },
  {
   "cell_type": "code",
   "execution_count": 33,
   "metadata": {
    "scrolled": false
   },
   "outputs": [],
   "source": [
    "tuple_results = (chosen_dataset,X_train.shape[0],len(set(y_train)),0,vm,ars,pur,db,fms,amis)\n",
    "\n",
    "DTW_results = list(tuple_results)"
   ]
  },
  {
   "cell_type": "code",
   "execution_count": 34,
   "metadata": {
    "scrolled": false
   },
   "outputs": [
    {
     "data": {
      "text/html": [
       "<div>\n",
       "<style scoped>\n",
       "    .dataframe tbody tr th:only-of-type {\n",
       "        vertical-align: middle;\n",
       "    }\n",
       "\n",
       "    .dataframe tbody tr th {\n",
       "        vertical-align: top;\n",
       "    }\n",
       "\n",
       "    .dataframe thead th {\n",
       "        text-align: right;\n",
       "    }\n",
       "</style>\n",
       "<table border=\"1\" class=\"dataframe\">\n",
       "  <thead>\n",
       "    <tr style=\"text-align: right;\">\n",
       "      <th></th>\n",
       "      <th>DatasetName</th>\n",
       "      <th>NofTrainSamples</th>\n",
       "      <th>NofClasses</th>\n",
       "      <th>Shilhouette</th>\n",
       "      <th>VMesure</th>\n",
       "      <th>AdjRandIndex</th>\n",
       "      <th>Purity</th>\n",
       "      <th>DBScore</th>\n",
       "      <th>FMS</th>\n",
       "      <th>AMIS</th>\n",
       "    </tr>\n",
       "  </thead>\n",
       "  <tbody>\n",
       "    <tr>\n",
       "      <th>0</th>\n",
       "      <td>TwoPatterns</td>\n",
       "      <td>1000</td>\n",
       "      <td>4</td>\n",
       "      <td>0</td>\n",
       "      <td>0.925884</td>\n",
       "      <td>0.932111</td>\n",
       "      <td>0.974</td>\n",
       "      <td>12.02035</td>\n",
       "      <td>0.949074</td>\n",
       "      <td>0.925642</td>\n",
       "    </tr>\n",
       "  </tbody>\n",
       "</table>\n",
       "</div>"
      ],
      "text/plain": [
       "   DatasetName NofTrainSamples NofClasses Shilhouette   VMesure  AdjRandIndex  \\\n",
       "0  TwoPatterns            1000          4           0  0.925884      0.932111   \n",
       "\n",
       "   Purity   DBScore       FMS      AMIS  \n",
       "0   0.974  12.02035  0.949074  0.925642  "
      ]
     },
     "execution_count": 34,
     "metadata": {},
     "output_type": "execute_result"
    }
   ],
   "source": [
    "import os\n",
    "dataframe_columns = ['DatasetName','NofTrainSamples','NofClasses','Shilhouette','VMesure','AdjRandIndex','Purity','DBScore','FMS','AMIS']\n",
    "results_df = pd.DataFrame(columns=dataframe_columns)\n",
    "results_df = results_df.append(pd.Series(DTW_results[0:10], index=dataframe_columns), ignore_index=True)\n",
    "\n",
    "csv_directory = '../export/DTW/' + chosen_dataset+'/'\n",
    "os.makedirs(csv_directory, exist_ok=True)\n",
    "\n",
    "results_df.to_csv(path_or_buf=csv_directory+\"metrics.csv\", mode='w+')\n",
    "results_df\n",
    "\n"
   ]
  }
 ],
 "metadata": {
  "kernelspec": {
   "display_name": "Python 3",
   "language": "python",
   "name": "python3"
  },
  "language_info": {
   "codemirror_mode": {
    "name": "ipython",
    "version": 3
   },
   "file_extension": ".py",
   "mimetype": "text/x-python",
   "name": "python",
   "nbconvert_exporter": "python",
   "pygments_lexer": "ipython3",
   "version": "3.7.3"
  }
 },
 "nbformat": 4,
 "nbformat_minor": 2
}
