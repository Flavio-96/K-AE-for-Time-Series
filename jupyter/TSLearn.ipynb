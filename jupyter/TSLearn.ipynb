{
 "cells": [
  {
   "cell_type": "markdown",
   "metadata": {},
   "source": [
    "# Dynamic Time Warping with TSLearn\n",
    "## Importing Data"
   ]
  },
  {
   "cell_type": "code",
   "execution_count": 67,
   "metadata": {},
   "outputs": [],
   "source": [
    "from tslearn.datasets import UCR_UEA_datasets\n",
    "import numpy as np"
   ]
  },
  {
   "cell_type": "code",
   "execution_count": 68,
   "metadata": {},
   "outputs": [
    {
     "name": "stdout",
     "output_type": "stream",
     "text": [
      "(23, 82, 1)\n",
      "<class 'numpy.ndarray'>\n"
     ]
    }
   ],
   "source": [
    "X_train, y_train, X_test, y_test = UCR_UEA_datasets().load_dataset(\"TwoLeadECG\")\n",
    "print(X_train.shape)\n",
    "print(type(X_train))"
   ]
  },
  {
   "cell_type": "markdown",
   "metadata": {},
   "source": [
    "## Training"
   ]
  },
  {
   "cell_type": "code",
   "execution_count": 69,
   "metadata": {},
   "outputs": [],
   "source": [
    "from tslearn.metrics import cdist_dtw\n",
    "from tslearn.clustering import TimeSeriesKMeans"
   ]
  },
  {
   "cell_type": "code",
   "execution_count": 70,
   "metadata": {},
   "outputs": [
    {
     "name": "stdout",
     "output_type": "stream",
     "text": [
      "1.563 --> 1.015 --> 1.014 --> 1.014 --> \n"
     ]
    }
   ],
   "source": [
    "n_clusters = len(set(y_train))\n",
    "model = TimeSeriesKMeans(metric=\"dtw\", n_clusters=n_clusters)\n",
    "y_predict = model.fit_predict(X_train)"
   ]
  },
  {
   "cell_type": "markdown",
   "metadata": {},
   "source": [
    "## Evaluation"
   ]
  },
  {
   "cell_type": "code",
   "execution_count": 71,
   "metadata": {},
   "outputs": [],
   "source": [
    "from tslearn.clustering import silhouette_score"
   ]
  },
  {
   "cell_type": "code",
   "execution_count": 72,
   "metadata": {
    "scrolled": false
   },
   "outputs": [
    {
     "name": "stdout",
     "output_type": "stream",
     "text": [
      "Silhouette Score 0.15042389203119969\n",
      "Silhouette Precomputed 0.15042389203119969\n",
      "Metrics Match? True\n"
     ]
    }
   ],
   "source": [
    "ss = silhouette_score(X_train,y_predict,metric=\"dtw\")\n",
    "print(\"Silhouette Score\",ss)\n",
    "dtw_matrix = cdist_dtw(X_train)\n",
    "ss_pre = silhouette_score(dtw_matrix,y_predict,metric=\"precomputed\")\n",
    "print(\"Silhouette Precomputed\",ss_pre)\n",
    "print(\"Metrics Match?\",ss == ss_pre)"
   ]
  },
  {
   "cell_type": "code",
   "execution_count": 73,
   "metadata": {},
   "outputs": [],
   "source": [
    "from sklearn.metrics.cluster import davies_bouldin_score, contingency_matrix,adjusted_rand_score,fowlkes_mallows_score,v_measure_score,adjusted_mutual_info_score"
   ]
  },
  {
   "cell_type": "code",
   "execution_count": 74,
   "metadata": {},
   "outputs": [
    {
     "name": "stdout",
     "output_type": "stream",
     "text": [
      "[[ 2 10]\n",
      " [ 1 10]]\n"
     ]
    }
   ],
   "source": [
    "cm = contingency_matrix(y_train, y_predict)\n",
    "print(cm)"
   ]
  },
  {
   "cell_type": "code",
   "execution_count": 75,
   "metadata": {},
   "outputs": [],
   "source": [
    "def purity(y_true, y_pred):\n",
    "    cm = contingency_matrix(y_true, y_pred)\n",
    "    return np.sum(np.amax(cm, axis=0)) / np.sum(cm)"
   ]
  },
  {
   "cell_type": "code",
   "execution_count": 76,
   "metadata": {},
   "outputs": [
    {
     "name": "stdout",
     "output_type": "stream",
     "text": [
      "Purity 0.5217391304347826\n"
     ]
    }
   ],
   "source": [
    "pur = purity(y_train, y_predict)\n",
    "print(\"Purity\", pur)"
   ]
  },
  {
   "cell_type": "code",
   "execution_count": 77,
   "metadata": {},
   "outputs": [
    {
     "name": "stdout",
     "output_type": "stream",
     "text": [
      "Adjusted rand index -0.020161290322580596\n"
     ]
    }
   ],
   "source": [
    "ars = adjusted_rand_score(y_train,y_predict)\n",
    "print(\"Adjusted rand index\", ars)"
   ]
  },
  {
   "cell_type": "code",
   "execution_count": 78,
   "metadata": {},
   "outputs": [
    {
     "name": "stdout",
     "output_type": "stream",
     "text": [
      "Fowlkes-Mallows score:  0.5954839392557383\n"
     ]
    }
   ],
   "source": [
    "# FMS: Media geometrica di precision e recall pairwise\n",
    "fms = fowlkes_mallows_score(y_train,y_predict)\n",
    "print(\"Fowlkes-Mallows score: \", fms)"
   ]
  },
  {
   "cell_type": "code",
   "execution_count": 79,
   "metadata": {},
   "outputs": [
    {
     "name": "stdout",
     "output_type": "stream",
     "text": [
      "Davies-Bouldin 0.9766361517906136\n"
     ]
    }
   ],
   "source": [
    "X_train_resh = np.reshape(X_train,(X_train.shape[0],X_train.shape[1]))\n",
    "db = davies_bouldin_score(X_train_resh,y_predict)\n",
    "print(\"Davies-Bouldin\",db)"
   ]
  },
  {
   "cell_type": "code",
   "execution_count": 80,
   "metadata": {},
   "outputs": [
    {
     "name": "stdout",
     "output_type": "stream",
     "text": [
      "V-Measure:  0.011935062134185988\n"
     ]
    }
   ],
   "source": [
    "vm = v_measure_score(y_train, y_predict)\n",
    "print(\"V-Measure: \", vm)"
   ]
  },
  {
   "cell_type": "markdown",
   "metadata": {},
   "source": [
    "## Automation"
   ]
  },
  {
   "cell_type": "code",
   "execution_count": 81,
   "metadata": {},
   "outputs": [],
   "source": [
    "import pandas as pd\n",
    "datasets_names = [\"ECG5000\", \"ECG200\",\"ChlorineConcentration\",\"FordA\",\"FordB\",\"PhalangesOutlinesCorrect\",\"RefrigerationDevices\",\"TwoLeadECG\",\"TwoPatterns\"]"
   ]
  },
  {
   "cell_type": "code",
   "execution_count": 82,
   "metadata": {},
   "outputs": [
    {
     "name": "stdout",
     "output_type": "stream",
     "text": [
      "[0, 1, 4]\n"
     ]
    }
   ],
   "source": [
    "from multiprocessing import Pool\n",
    "from joblib import Parallel, delayed\n",
    "def worker(x):\n",
    "    return x*x\n",
    "if __name__ ==  '__main__': #this is the only additional line\n",
    "     num_processors = 3\n",
    "     p=Pool(processes = num_processors)\n",
    "     output = p.map(worker,[i for i in range(0,3)])\n",
    "     print(output)"
   ]
  },
  {
   "cell_type": "code",
   "execution_count": null,
   "metadata": {
    "scrolled": true
   },
   "outputs": [
    {
     "name": "stdout",
     "output_type": "stream",
     "text": [
      "Working on ECG5000\n"
     ]
    }
   ],
   "source": [
    "import sys\n",
    "\n",
    "def process_dataset(dataset_name):\n",
    "    X_train, y_train, X_test, y_test = UCR_UEA_datasets(use_cache=True).load_dataset(dataset_name)\n",
    "    print(\"Working on\",dataset_name)\n",
    "    sys.stdout.flush()\n",
    "    if(not X_train.any()):\n",
    "        print(\"Error in loading Dataset\")\n",
    "        return    \n",
    "    \n",
    "    n_clusters = len(set(y_train))\n",
    "    model = TimeSeriesKMeans(metric=\"dtw\", n_clusters=n_clusters,verbose=True)\n",
    "    y_predict = model.fit_predict(X_train)\n",
    "    \n",
    "    ss = 0#silhouette_score(X_train,y_predict,metric=\"dtw\")    \n",
    "    vm = v_measure_score(y_train, y_predict)\n",
    "    ars = adjusted_rand_score(y_train,y_predict)\n",
    "    pur = purity(y_train, y_predict)\n",
    "    \n",
    "    X_train_resh = np.reshape(X_train,(X_train.shape[0],X_train.shape[1]))\n",
    "    db = davies_bouldin_score(X_train_resh,y_predict)\n",
    "    \n",
    "    fms = fowlkes_mallows_score(y_train,y_predict)\n",
    "    amis = adjusted_mutual_info_score(y_train, y_predict, average_method='arithmetic')\n",
    "    \n",
    "    return (dataset_name,X_train.shape[0],n_clusters,ss,vm,ars,pur,db,fms,amis)\n",
    "    \n",
    "    print(\"Fit Completed\")\n",
    "\n",
    "\n",
    "results = process_dataset(datasets_names[0])"
   ]
  },
  {
   "cell_type": "code",
   "execution_count": 61,
   "metadata": {
    "scrolled": true
   },
   "outputs": [],
   "source": [
    "results = list(results)"
   ]
  },
  {
   "cell_type": "code",
   "execution_count": 66,
   "metadata": {
    "scrolled": false
   },
   "outputs": [
    {
     "data": {
      "text/html": [
       "<div>\n",
       "<style scoped>\n",
       "    .dataframe tbody tr th:only-of-type {\n",
       "        vertical-align: middle;\n",
       "    }\n",
       "\n",
       "    .dataframe tbody tr th {\n",
       "        vertical-align: top;\n",
       "    }\n",
       "\n",
       "    .dataframe thead th {\n",
       "        text-align: right;\n",
       "    }\n",
       "</style>\n",
       "<table border=\"1\" class=\"dataframe\">\n",
       "  <thead>\n",
       "    <tr style=\"text-align: right;\">\n",
       "      <th></th>\n",
       "      <th>DatasetName</th>\n",
       "      <th>NofTrainSamples</th>\n",
       "      <th>NofClasses</th>\n",
       "      <th>Shilhouette</th>\n",
       "      <th>VMesure</th>\n",
       "      <th>AdjRandIndex</th>\n",
       "      <th>Purity</th>\n",
       "      <th>DBScore</th>\n",
       "      <th>FMS</th>\n",
       "      <th>AMIS</th>\n",
       "    </tr>\n",
       "  </thead>\n",
       "  <tbody>\n",
       "    <tr>\n",
       "      <th>0</th>\n",
       "      <td>ECG5000</td>\n",
       "      <td>500</td>\n",
       "      <td>5</td>\n",
       "      <td>0</td>\n",
       "      <td>0.520783</td>\n",
       "      <td>0.448145</td>\n",
       "      <td>0.92</td>\n",
       "      <td>1.954812</td>\n",
       "      <td>0.658989</td>\n",
       "      <td>0.513946</td>\n",
       "    </tr>\n",
       "  </tbody>\n",
       "</table>\n",
       "</div>"
      ],
      "text/plain": [
       "  DatasetName NofTrainSamples NofClasses Shilhouette   VMesure  AdjRandIndex  \\\n",
       "0     ECG5000             500          5           0  0.520783      0.448145   \n",
       "\n",
       "   Purity   DBScore       FMS      AMIS  \n",
       "0    0.92  1.954812  0.658989  0.513946  "
      ]
     },
     "execution_count": 66,
     "metadata": {},
     "output_type": "execute_result"
    }
   ],
   "source": [
    "import os\n",
    "dataframe_columns = ['DatasetName','NofTrainSamples','NofClasses','Shilhouette','VMesure','AdjRandIndex','Purity','DBScore','FMS','AMIS']\n",
    "results_df = pd.DataFrame(columns=dataframe_columns)\n",
    "results_df = results_df.append(pd.Series(results[0:10], index=dataframe_columns), ignore_index=True)\n",
    "\n",
    "csv_directory = '../export/DTW/' + datasets_names[0]+'/'\n",
    "os.makedirs(csv_directory, exist_ok=True)\n",
    "\n",
    "results_df.to_csv(path_or_buf=csv_directory+\"metrics.csv\", mode='w+')\n",
    "results_df"
   ]
  }
 ],
 "metadata": {
  "kernelspec": {
   "display_name": "Python 3",
   "language": "python",
   "name": "python3"
  }
 },
 "nbformat": 4,
 "nbformat_minor": 2
}
