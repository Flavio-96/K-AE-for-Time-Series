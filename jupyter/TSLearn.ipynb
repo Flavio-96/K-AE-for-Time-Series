{
 "cells": [
  {
   "cell_type": "markdown",
   "metadata": {},
   "source": [
    "# Dynamic Time Warping with TSLearn"
   ]
  },
  {
   "cell_type": "markdown",
   "metadata": {},
   "source": [
    "## TSLearn imports"
   ]
  },
  {
   "cell_type": "code",
   "execution_count": 11,
   "metadata": {},
   "outputs": [],
   "source": [
    "from tslearn.metrics import cdist_dtw\n",
    "from tslearn.clustering import TimeSeriesKMeans, silhouette_score\n",
    "from tslearn.datasets import UCR_UEA_datasets"
   ]
  },
  {
   "cell_type": "markdown",
   "metadata": {},
   "source": [
    "## Metric imports"
   ]
  },
  {
   "cell_type": "code",
   "execution_count": 12,
   "metadata": {},
   "outputs": [],
   "source": [
    "from sklearn.metrics.cluster import davies_bouldin_score, contingency_matrix,adjusted_rand_score,fowlkes_mallows_score,v_measure_score,adjusted_mutual_info_score"
   ]
  },
  {
   "cell_type": "markdown",
   "metadata": {},
   "source": [
    "### Purity definition"
   ]
  },
  {
   "cell_type": "code",
   "execution_count": 13,
   "metadata": {},
   "outputs": [],
   "source": [
    "def purity(y_true, y_pred):\n",
    "    cm = contingency_matrix(y_true, y_pred)\n",
    "    return np.sum(np.amax(cm, axis=0)) / np.sum(cm)"
   ]
  },
  {
   "cell_type": "markdown",
   "metadata": {},
   "source": [
    "## Datasets declaration"
   ]
  },
  {
   "cell_type": "code",
   "execution_count": 14,
   "metadata": {},
   "outputs": [],
   "source": [
    "datasets_names = [\"ECG5000\", \"ECG200\",\"ChlorineConcentration\",\"FordA\",\"FordB\",\"PhalangesOutlinesCorrect\",\"RefrigerationDevices\",\"TwoLeadECG\",\"TwoPatterns\"]\n",
    "chosen_dataset = datasets_names[8]"
   ]
  },
  {
   "cell_type": "code",
   "execution_count": 15,
   "metadata": {
    "scrolled": true
   },
   "outputs": [
    {
     "name": "stdout",
     "output_type": "stream",
     "text": [
      "Working on TwoPatterns\n",
      "18.884 --> 11.435 --> 10.400 --> 9.876 --> 9.719 --> 9.436 --> 8.551 --> 7.583 --> 7.569 --> 7.489 --> 7.479 --> 7.475 --> 7.475 --> 7.475 --> \n"
     ]
    }
   ],
   "source": [
    "import sys\n",
    "import pandas as pd\n",
    "import numpy as np\n",
    "\n",
    "def process_dataset(dataset_name):\n",
    "    X_train, y_train, X_test, y_test = UCR_UEA_datasets(use_cache=True).load_dataset(dataset_name)\n",
    "    print(\"Working on\",dataset_name)\n",
    "    if(not X_train.any()):\n",
    "        print(\"Error in loading Dataset\")\n",
    "        return    \n",
    "    \n",
    "    n_clusters = len(set(y_train))\n",
    "    model = TimeSeriesKMeans(metric=\"dtw\", n_clusters=n_clusters,verbose=True)\n",
    "    y_predict = model.fit_predict(X_train)\n",
    "    \n",
    "    return y_predict\n",
    "    \n",
    "\n",
    "\n",
    "results = process_dataset(chosen_dataset)"
   ]
  },
  {
   "cell_type": "code",
   "execution_count": 20,
   "metadata": {},
   "outputs": [],
   "source": [
    "X_train, y_train, X_test, y_test = UCR_UEA_datasets(use_cache=True).load_dataset(chosen_dataset)"
   ]
  },
  {
   "cell_type": "code",
   "execution_count": null,
   "metadata": {},
   "outputs": [],
   "source": [
    "ss = silhouette_score(X_train,results,metric=\"dtw\")    "
   ]
  },
  {
   "cell_type": "code",
   "execution_count": 24,
   "metadata": {},
   "outputs": [],
   "source": [
    "vm = v_measure_score(y_train, results)\n",
    "ars = adjusted_rand_score(y_train,results)\n",
    "pur = purity(y_train, results)\n",
    "\n",
    "X_train_resh = np.reshape(X_train,(X_train.shape[0],X_train.shape[1]))\n",
    "db = davies_bouldin_score(X_train_resh,results)\n",
    "\n",
    "fms = fowlkes_mallows_score(y_train,results)\n",
    "amis = adjusted_mutual_info_score(y_train, results, average_method='arithmetic')"
   ]
  },
  {
   "cell_type": "code",
   "execution_count": 30,
   "metadata": {
    "scrolled": false
   },
   "outputs": [],
   "source": [
    "tuple_results = (chosen_dataset,X_train.shape[0],len(set(y_train)),0,vm,ars,pur,db,fms,amis)\n",
    "\n",
    "results = list(tuple_results)"
   ]
  },
  {
   "cell_type": "code",
   "execution_count": 31,
   "metadata": {
    "scrolled": false
   },
   "outputs": [
    {
     "data": {
      "text/html": [
       "<div>\n",
       "<style scoped>\n",
       "    .dataframe tbody tr th:only-of-type {\n",
       "        vertical-align: middle;\n",
       "    }\n",
       "\n",
       "    .dataframe tbody tr th {\n",
       "        vertical-align: top;\n",
       "    }\n",
       "\n",
       "    .dataframe thead th {\n",
       "        text-align: right;\n",
       "    }\n",
       "</style>\n",
       "<table border=\"1\" class=\"dataframe\">\n",
       "  <thead>\n",
       "    <tr style=\"text-align: right;\">\n",
       "      <th></th>\n",
       "      <th>DatasetName</th>\n",
       "      <th>NofTrainSamples</th>\n",
       "      <th>NofClasses</th>\n",
       "      <th>Shilhouette</th>\n",
       "      <th>VMesure</th>\n",
       "      <th>AdjRandIndex</th>\n",
       "      <th>Purity</th>\n",
       "      <th>DBScore</th>\n",
       "      <th>FMS</th>\n",
       "      <th>AMIS</th>\n",
       "    </tr>\n",
       "  </thead>\n",
       "  <tbody>\n",
       "    <tr>\n",
       "      <th>0</th>\n",
       "      <td>TwoPatterns</td>\n",
       "      <td>1000</td>\n",
       "      <td>4</td>\n",
       "      <td>0</td>\n",
       "      <td>0.925884</td>\n",
       "      <td>0.932111</td>\n",
       "      <td>0.974</td>\n",
       "      <td>12.02035</td>\n",
       "      <td>0.949074</td>\n",
       "      <td>0.925642</td>\n",
       "    </tr>\n",
       "  </tbody>\n",
       "</table>\n",
       "</div>"
      ],
      "text/plain": [
       "   DatasetName NofTrainSamples NofClasses Shilhouette   VMesure  AdjRandIndex  \\\n",
       "0  TwoPatterns            1000          4           0  0.925884      0.932111   \n",
       "\n",
       "   Purity   DBScore       FMS      AMIS  \n",
       "0   0.974  12.02035  0.949074  0.925642  "
      ]
     },
     "execution_count": 31,
     "metadata": {},
     "output_type": "execute_result"
    }
   ],
   "source": [
    "import os\n",
    "dataframe_columns = ['DatasetName','NofTrainSamples','NofClasses','Shilhouette','VMesure','AdjRandIndex','Purity','DBScore','FMS','AMIS']\n",
    "results_df = pd.DataFrame(columns=dataframe_columns)\n",
    "results_df = results_df.append(pd.Series(results[0:10], index=dataframe_columns), ignore_index=True)\n",
    "\n",
    "csv_directory = '../export/DTW/' + chosen_dataset+'/'\n",
    "os.makedirs(csv_directory, exist_ok=True)\n",
    "\n",
    "results_df.to_csv(path_or_buf=csv_directory+\"metrics.csv\", mode='w+')\n",
    "results_df\n",
    "\n"
   ]
  }
 ],
 "metadata": {
  "kernelspec": {
   "display_name": "Python 3",
   "language": "python",
   "name": "python3"
  },
  "language_info": {
   "codemirror_mode": {
    "name": "ipython",
    "version": 3
   },
   "file_extension": ".py",
   "mimetype": "text/x-python",
   "name": "python",
   "nbconvert_exporter": "python",
   "pygments_lexer": "ipython3",
   "version": "3.7.3"
  }
 },
 "nbformat": 4,
 "nbformat_minor": 2
}
