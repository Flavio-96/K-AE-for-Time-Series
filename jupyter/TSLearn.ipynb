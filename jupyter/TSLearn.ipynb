{
 "cells": [
  {
   "cell_type": "markdown",
   "metadata": {},
   "source": [
    "# Dynamic Time Warping with TSLearn\n",
    "## Importing Data"
   ]
  },
  {
   "cell_type": "code",
   "execution_count": 1,
   "metadata": {},
   "outputs": [],
   "source": [
    "from tslearn.datasets import UCR_UEA_datasets\n",
    "import numpy as np"
   ]
  },
  {
   "cell_type": "code",
   "execution_count": 2,
   "metadata": {},
   "outputs": [
    {
     "name": "stdout",
     "output_type": "stream",
     "text": [
      "(23, 82, 1)\n",
      "<class 'numpy.ndarray'>\n"
     ]
    }
   ],
   "source": [
    "X_train, y_train, X_test, y_test = UCR_UEA_datasets().load_dataset(\"TwoLeadECG\")\n",
    "print(X_train.shape)\n",
    "print(type(X_train))"
   ]
  },
  {
   "cell_type": "markdown",
   "metadata": {},
   "source": [
    "## Training"
   ]
  },
  {
   "cell_type": "code",
   "execution_count": 3,
   "metadata": {},
   "outputs": [],
   "source": [
    "from tslearn.metrics import cdist_dtw\n",
    "from tslearn.clustering import TimeSeriesKMeans"
   ]
  },
  {
   "cell_type": "code",
   "execution_count": 4,
   "metadata": {},
   "outputs": [
    {
     "name": "stdout",
     "output_type": "stream",
     "text": [
      "1.430 --> 0.829 --> 0.812 --> 0.812 --> \n"
     ]
    }
   ],
   "source": [
    "n_clusters = len(set(y_train))\n",
    "model = TimeSeriesKMeans(metric=\"dtw\", n_clusters=n_clusters)\n",
    "y_predict = model.fit_predict(X_train)"
   ]
  },
  {
   "cell_type": "markdown",
   "metadata": {},
   "source": [
    "## Evaluation"
   ]
  },
  {
   "cell_type": "code",
   "execution_count": 5,
   "metadata": {},
   "outputs": [],
   "source": [
    "from tslearn.clustering import silhouette_score"
   ]
  },
  {
   "cell_type": "code",
   "execution_count": 6,
   "metadata": {
    "scrolled": false
   },
   "outputs": [
    {
     "name": "stdout",
     "output_type": "stream",
     "text": [
      "Silhouette Score 0.3047585295912364\n",
      "Silhouette Precomputed 0.3047585295912364\n",
      "Metrics Match? True\n"
     ]
    }
   ],
   "source": [
    "ss = silhouette_score(X_train,y_predict,metric=\"dtw\")\n",
    "print(\"Silhouette Score\",ss)\n",
    "dtw_matrix = cdist_dtw(X_train)\n",
    "ss_pre = silhouette_score(dtw_matrix,y_predict,metric=\"precomputed\")\n",
    "print(\"Silhouette Precomputed\",ss_pre)\n",
    "print(\"Metrics Match?\",ss == ss_pre)"
   ]
  },
  {
   "cell_type": "code",
   "execution_count": 7,
   "metadata": {},
   "outputs": [],
   "source": [
    "from sklearn.metrics.cluster import davies_bouldin_score, contingency_matrix,adjusted_rand_score,fowlkes_mallows_score,v_measure_score,adjusted_mutual_info_score"
   ]
  },
  {
   "cell_type": "code",
   "execution_count": 8,
   "metadata": {},
   "outputs": [
    {
     "name": "stdout",
     "output_type": "stream",
     "text": [
      "[[9 3]\n",
      " [3 8]]\n"
     ]
    }
   ],
   "source": [
    "cm = contingency_matrix(y_train, y_predict)\n",
    "print(cm)"
   ]
  },
  {
   "cell_type": "code",
   "execution_count": 9,
   "metadata": {},
   "outputs": [],
   "source": [
    "def purity(y_true, y_pred):\n",
    "    cm = contingency_matrix(y_true, y_pred)\n",
    "    return np.sum(np.amax(cm, axis=0)) / np.sum(cm)"
   ]
  },
  {
   "cell_type": "code",
   "execution_count": 10,
   "metadata": {},
   "outputs": [
    {
     "name": "stdout",
     "output_type": "stream",
     "text": [
      "Purity 0.7391304347826086\n"
     ]
    }
   ],
   "source": [
    "pur = purity(y_train, y_predict)\n",
    "print(\"Purity\", pur)"
   ]
  },
  {
   "cell_type": "code",
   "execution_count": 11,
   "metadata": {},
   "outputs": [
    {
     "name": "stdout",
     "output_type": "stream",
     "text": [
      "Adjusted rand index 0.1921487603305785\n"
     ]
    }
   ],
   "source": [
    "ars = adjusted_rand_score(y_train,y_predict)\n",
    "print(\"Adjusted rand index\", ars)"
   ]
  },
  {
   "cell_type": "code",
   "execution_count": 12,
   "metadata": {},
   "outputs": [
    {
     "name": "stdout",
     "output_type": "stream",
     "text": [
      "Fowlkes-Mallows score:  0.578512396694215\n"
     ]
    }
   ],
   "source": [
    "# FMS: Media geometrica di precision e recall pairwise\n",
    "fms = fowlkes_mallows_score(y_train,y_predict)\n",
    "print(\"Fowlkes-Mallows score: \", fms)"
   ]
  },
  {
   "cell_type": "code",
   "execution_count": 13,
   "metadata": {},
   "outputs": [
    {
     "name": "stdout",
     "output_type": "stream",
     "text": [
      "Davies-Bouldin 2.3838660448235367\n"
     ]
    }
   ],
   "source": [
    "X_train_resh = np.reshape(X_train,(X_train.shape[0],X_train.shape[1]))\n",
    "db = davies_bouldin_score(X_train_resh,y_predict)\n",
    "print(\"Davies-Bouldin\",db)"
   ]
  },
  {
   "cell_type": "code",
   "execution_count": 14,
   "metadata": {},
   "outputs": [
    {
     "name": "stdout",
     "output_type": "stream",
     "text": [
      "V-Measure:  0.1712958005371039\n"
     ]
    }
   ],
   "source": [
    "vm = v_measure_score(y_train, y_predict)\n",
    "print(\"V-Measure: \", vm)"
   ]
  },
  {
   "cell_type": "markdown",
   "metadata": {},
   "source": [
    "## Automation"
   ]
  },
  {
   "cell_type": "code",
   "execution_count": 15,
   "metadata": {},
   "outputs": [],
   "source": [
    "import pandas as pd\n",
    "datasets_names = [\"ECG5000\", \"ECG200\",\"ChlorineConcentration\",\"FordA\",\"FordB\",\"PhalangesOutlinesCorrect\",\"RefrigerationDevices\",\"TwoLeadECG\",\"TwoPatterns\"]\n",
    "chosen_dataset = datasets_names[7]"
   ]
  },
  {
   "cell_type": "code",
   "execution_count": 16,
   "metadata": {
    "scrolled": true
   },
   "outputs": [
    {
     "name": "stdout",
     "output_type": "stream",
     "text": [
      "Working on TwoLeadECG\n",
      "2.224 --> 0.873 --> 0.845 --> 0.845 --> \n"
     ]
    }
   ],
   "source": [
    "import sys\n",
    "\n",
    "def process_dataset(dataset_name):\n",
    "    X_train, y_train, X_test, y_test = UCR_UEA_datasets(use_cache=True).load_dataset(dataset_name)\n",
    "    print(\"Working on\",dataset_name)\n",
    "    sys.stdout.flush()\n",
    "    if(not X_train.any()):\n",
    "        print(\"Error in loading Dataset\")\n",
    "        return    \n",
    "    \n",
    "    n_clusters = len(set(y_train))\n",
    "    model = TimeSeriesKMeans(metric=\"dtw\", n_clusters=n_clusters,verbose=True)\n",
    "    y_predict = model.fit_predict(X_train)\n",
    "    \n",
    "    ss = 0#silhouette_score(X_train,y_predict,metric=\"dtw\")    \n",
    "    vm = v_measure_score(y_train, y_predict)\n",
    "    ars = adjusted_rand_score(y_train,y_predict)\n",
    "    pur = purity(y_train, y_predict)\n",
    "    \n",
    "    X_train_resh = np.reshape(X_train,(X_train.shape[0],X_train.shape[1]))\n",
    "    db = davies_bouldin_score(X_train_resh,y_predict)\n",
    "    \n",
    "    fms = fowlkes_mallows_score(y_train,y_predict)\n",
    "    amis = adjusted_mutual_info_score(y_train, y_predict, average_method='arithmetic')\n",
    "    \n",
    "    return (dataset_name,X_train.shape[0],n_clusters,ss,vm,ars,pur,db,fms,amis)\n",
    "    \n",
    "    print(\"Fit Completed\")\n",
    "\n",
    "\n",
    "results = process_dataset(chosen_dataset)"
   ]
  },
  {
   "cell_type": "code",
   "execution_count": 17,
   "metadata": {
    "scrolled": true
   },
   "outputs": [],
   "source": [
    "results = list(results)"
   ]
  },
  {
   "cell_type": "code",
   "execution_count": 18,
   "metadata": {
    "scrolled": false
   },
   "outputs": [
    {
     "data": {
      "text/html": [
       "<div>\n",
       "<style scoped>\n",
       "    .dataframe tbody tr th:only-of-type {\n",
       "        vertical-align: middle;\n",
       "    }\n",
       "\n",
       "    .dataframe tbody tr th {\n",
       "        vertical-align: top;\n",
       "    }\n",
       "\n",
       "    .dataframe thead th {\n",
       "        text-align: right;\n",
       "    }\n",
       "</style>\n",
       "<table border=\"1\" class=\"dataframe\">\n",
       "  <thead>\n",
       "    <tr style=\"text-align: right;\">\n",
       "      <th></th>\n",
       "      <th>DatasetName</th>\n",
       "      <th>NofTrainSamples</th>\n",
       "      <th>NofClasses</th>\n",
       "      <th>Shilhouette</th>\n",
       "      <th>VMesure</th>\n",
       "      <th>AdjRandIndex</th>\n",
       "      <th>Purity</th>\n",
       "      <th>DBScore</th>\n",
       "      <th>FMS</th>\n",
       "      <th>AMIS</th>\n",
       "    </tr>\n",
       "  </thead>\n",
       "  <tbody>\n",
       "    <tr>\n",
       "      <th>0</th>\n",
       "      <td>TwoLeadECG</td>\n",
       "      <td>23</td>\n",
       "      <td>2</td>\n",
       "      <td>0</td>\n",
       "      <td>0.013609</td>\n",
       "      <td>-0.014936</td>\n",
       "      <td>0.565217</td>\n",
       "      <td>2.248334</td>\n",
       "      <td>0.548282</td>\n",
       "      <td>-0.028843</td>\n",
       "    </tr>\n",
       "  </tbody>\n",
       "</table>\n",
       "</div>"
      ],
      "text/plain": [
       "  DatasetName NofTrainSamples NofClasses Shilhouette   VMesure  AdjRandIndex  \\\n",
       "0  TwoLeadECG              23          2           0  0.013609     -0.014936   \n",
       "\n",
       "     Purity   DBScore       FMS      AMIS  \n",
       "0  0.565217  2.248334  0.548282 -0.028843  "
      ]
     },
     "execution_count": 18,
     "metadata": {},
     "output_type": "execute_result"
    }
   ],
   "source": [
    "import os\n",
    "dataframe_columns = ['DatasetName','NofTrainSamples','NofClasses','Shilhouette','VMesure','AdjRandIndex','Purity','DBScore','FMS','AMIS']\n",
    "results_df = pd.DataFrame(columns=dataframe_columns)\n",
    "results_df = results_df.append(pd.Series(results[0:10], index=dataframe_columns), ignore_index=True)\n",
    "\n",
    "csv_directory = '../export/DTW/' + chosen_dataset+'/'\n",
    "os.makedirs(csv_directory, exist_ok=True)\n",
    "\n",
    "results_df.to_csv(path_or_buf=csv_directory+\"metrics.csv\", mode='w+')\n",
    "results_df"
   ]
  }
 ],
 "metadata": {
  "kernelspec": {
   "display_name": "Python 3",
   "language": "python",
   "name": "python3"
  },
  "language_info": {
   "codemirror_mode": {
    "name": "ipython",
    "version": 3
   },
   "file_extension": ".py",
   "mimetype": "text/x-python",
   "name": "python",
   "nbconvert_exporter": "python",
   "pygments_lexer": "ipython3",
   "version": "3.7.3"
  }
 },
 "nbformat": 4,
 "nbformat_minor": 2
}
